{
 "cells": [
  {
   "cell_type": "markdown",
   "metadata": {},
   "source": [
    "## Our objective function is to maximize but the function available is minimize so, we need to change the sign of our objective function.\n",
    "\n",
    "### Original function: maximize (750x_1 + 1000x_2)\n",
    "### minimize (750x_1 +1000x_2)*(-1) = -750x_1 – 1000x_2 – multiplied by -1"
   ]
  },
  {
   "cell_type": "code",
   "execution_count": 1,
   "metadata": {},
   "outputs": [],
   "source": [
    "import numpy as np\n",
    "from scipy.optimize import minimize, LinearConstraint\n",
    "from scipy.optimize import linprog"
   ]
  },
  {
   "cell_type": "code",
   "execution_count": 2,
   "metadata": {},
   "outputs": [],
   "source": [
    "#Assumption\n",
    "x1=1\n",
    "x2=1\n",
    "profit_x1= 750\n",
    "profit_x2=1000\n",
    "tot_profit=x1*profit_x1+x2*profit_x2"
   ]
  },
  {
   "cell_type": "code",
   "execution_count": 3,
   "metadata": {},
   "outputs": [],
   "source": [
    "# Objective function\n",
    "# maximize=-totProfit=-(x1*profit_x1+x2*profit_x2)\n",
    "obj=[-profit_x1, -profit_x2]"
   ]
  },
  {
   "cell_type": "code",
   "execution_count": 4,
   "metadata": {},
   "outputs": [],
   "source": [
    "lhs_constraint=[[1, 1], [1, 2], [4, 3]]\n",
    "rhs_constraint=[10000, 15000, 25000]"
   ]
  },
  {
   "cell_type": "code",
   "execution_count": 5,
   "metadata": {},
   "outputs": [],
   "source": [
    "# Boundary Conditions\n",
    "bnd=[(0, float(\"inf\")), (0, float(\"inf\"))]"
   ]
  },
  {
   "cell_type": "code",
   "execution_count": 6,
   "metadata": {},
   "outputs": [],
   "source": [
    "optimize=linprog(c=obj, A_ub=lhs_constraint, b_ub=rhs_constraint, bounds=bnd, method=\"revised simplex\")"
   ]
  },
  {
   "cell_type": "code",
   "execution_count": 7,
   "metadata": {},
   "outputs": [
    {
     "name": "stdout",
     "output_type": "stream",
     "text": [
      "Final Optimized Value=       con: array([], dtype=float64)\n",
      "     fun: -7750000.0\n",
      " message: 'Optimization terminated successfully.'\n",
      "     nit: 2\n",
      "   slack: array([2000.,    0.,    0.])\n",
      "  status: 0\n",
      " success: True\n",
      "       x: array([1000., 7000.])\n",
      "number of notebooks to be manufactured:  1000.0\n",
      "number of desktops to be manufactured:  7000.0\n",
      "total profit by calculation:  7750000.0\n",
      "total profit by algorithm:  -7750000.0\n"
     ]
    }
   ],
   "source": [
    "print(\"Final Optimized Value= \", optimize)\n",
    "if optimize.success:\n",
    "    print(\"number of notebooks to be manufactured: \", optimize.x[0])\n",
    "    print(\"number of desktops to be manufactured: \", optimize.x[1])\n",
    "    print(\"total profit by calculation: \", (optimize.x[0]*750)+(optimize.x[1]*1000))\n",
    "    print(\"total profit by algorithm: \", optimize.fun)\n",
    "else:\n",
    "    print(\"solution doesn't exist \")"
   ]
  },
  {
   "cell_type": "code",
   "execution_count": null,
   "metadata": {},
   "outputs": [],
   "source": []
  },
  {
   "cell_type": "code",
   "execution_count": null,
   "metadata": {},
   "outputs": [],
   "source": []
  }
 ],
 "metadata": {
  "kernelspec": {
   "display_name": "Python 3",
   "language": "python",
   "name": "python3"
  },
  "language_info": {
   "codemirror_mode": {
    "name": "ipython",
    "version": 3
   },
   "file_extension": ".py",
   "mimetype": "text/x-python",
   "name": "python",
   "nbconvert_exporter": "python",
   "pygments_lexer": "ipython3",
   "version": "3.8.5"
  }
 },
 "nbformat": 4,
 "nbformat_minor": 4
}
