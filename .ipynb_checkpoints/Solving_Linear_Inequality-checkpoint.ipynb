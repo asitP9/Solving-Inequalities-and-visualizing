{
 "cells": [
  {
   "cell_type": "markdown",
   "metadata": {},
   "source": [
    "## Our objective function is to maximize but the function available is minimize so, we need to change the sign of our objective function.\n",
    "\n",
    "### Original function: maximize (750x_1 + 1000x_2)\n",
    "### minimize (750x_1 +1000x_2)*(-1) = -750x_1 – 1000x_2 – multiplied by -1"
   ]
  },
  {
   "cell_type": "code",
   "execution_count": 1,
   "metadata": {},
   "outputs": [],
   "source": [
    "import numpy as np\n",
    "from scipy.optimize import minimize, LinearConstraint\n",
    "from scipy.optimize import linprog\n",
    "\n",
    "%matplotlib inline\n"
   ]
  },
  {
   "cell_type": "code",
   "execution_count": 2,
   "metadata": {},
   "outputs": [],
   "source": [
    "#Assumption\n",
    "x1=1\n",
    "x2=1\n",
    "profit_x1= 750\n",
    "profit_x2=1000\n",
    "tot_profit=x1*profit_x1+x2*profit_x2"
   ]
  },
  {
   "cell_type": "code",
   "execution_count": 3,
   "metadata": {},
   "outputs": [],
   "source": [
    "# Objective function\n",
    "# maximize=-totProfit=-(x1*profit_x1+x2*profit_x2)\n",
    "obj=[-profit_x1, -profit_x2]"
   ]
  },
  {
   "cell_type": "code",
   "execution_count": 4,
   "metadata": {},
   "outputs": [],
   "source": [
    "lhs_constraint=[[1, 1], [1, 2], [4, 3]]\n",
    "rhs_constraint=[10000, 15000, 25000]"
   ]
  },
  {
   "cell_type": "code",
   "execution_count": 5,
   "metadata": {},
   "outputs": [],
   "source": [
    "# Boundary Conditions\n",
    "bnd=[(0, float(\"inf\")), (0, float(\"inf\"))]"
   ]
  },
  {
   "cell_type": "code",
   "execution_count": 6,
   "metadata": {},
   "outputs": [],
   "source": [
    "optimize=linprog(c=obj, A_ub=lhs_constraint, b_ub=rhs_constraint, bounds=bnd, method=\"revised simplex\")"
   ]
  },
  {
   "cell_type": "code",
   "execution_count": 7,
   "metadata": {},
   "outputs": [
    {
     "name": "stdout",
     "output_type": "stream",
     "text": [
      "Final Optimized Value=       con: array([], dtype=float64)\n",
      "     fun: -7750000.0\n",
      " message: 'Optimization terminated successfully.'\n",
      "     nit: 2\n",
      "   slack: array([2000.,    0.,    0.])\n",
      "  status: 0\n",
      " success: True\n",
      "       x: array([1000., 7000.])\n",
      "number of notebooks to be manufactured:  1000.0\n",
      "number of desktops to be manufactured:  7000.0\n",
      "total profit by calculation:  7750000.0\n",
      "total profit by algorithm:  -7750000.0\n"
     ]
    }
   ],
   "source": [
    "print(\"Final Optimized Value= \", optimize)\n",
    "if optimize.success:\n",
    "    print(\"number of notebooks to be manufactured: \", optimize.x[0])\n",
    "    print(\"number of desktops to be manufactured: \", optimize.x[1])\n",
    "    print(\"total profit by calculation: \", (optimize.x[0]*750)+(optimize.x[1]*1000))\n",
    "    print(\"total profit by algorithm: \", optimize.fun)\n",
    "else:\n",
    "    print(\"solution doesn't exist \")"
   ]
  },
  {
   "cell_type": "markdown",
   "metadata": {},
   "source": [
    "### Visualizing the lines in the plot"
   ]
  },
  {
   "cell_type": "code",
   "execution_count": 8,
   "metadata": {},
   "outputs": [],
   "source": [
    "import matplotlib.pyplot as plt"
   ]
  },
  {
   "cell_type": "code",
   "execution_count": 9,
   "metadata": {},
   "outputs": [],
   "source": [
    "# Construct the lines\n",
    "# x1>0 and x2>0\n",
    "x1=np.linspace(0, 20, 8000)"
   ]
  },
  {
   "cell_type": "code",
   "execution_count": 10,
   "metadata": {},
   "outputs": [],
   "source": [
    "x2>0\n",
    "y1=(x1*0)\n"
   ]
  },
  {
   "cell_type": "code",
   "execution_count": 11,
   "metadata": {},
   "outputs": [],
   "source": [
    "# plt.plot(x1, y1, label=r'$y\\geq10-x$')\n"
   ]
  },
  {
   "cell_type": "code",
   "execution_count": 17,
   "metadata": {
    "scrolled": true
   },
   "outputs": [
    {
     "data": {
      "text/plain": [
       "<matplotlib.legend.Legend at 0x29b5e7a8e80>"
      ]
     },
     "execution_count": 17,
     "metadata": {},
     "output_type": "execute_result"
    },
    {
     "data": {
      "image/png": "[encoded data removed]",
      "text/plain": [
       "<Figure size 720x504 with 1 Axes>"
      ]
     },
     "metadata": {
      "needs_background": "light"
     },
     "output_type": "display_data"
    }
   ],
   "source": [
    "# Overall Equations\n",
    "fig = plt.figure(figsize=(10, 7))\n",
    "\n",
    "y2=10-x1\n",
    "y3=(15-x1)/2\n",
    "y4=(25-(4*x1))/3\n",
    "\n",
    "plt.plot(x1, y2, label=r'$y\\leq10-x---Y2$')\n",
    "# plt.show()\n",
    "\n",
    "# Equation: x1+2x2<=15\n",
    "plt.plot(x1, y3, label=r'$2y\\geq15-x---Y3$')\n",
    "# plt.show()\n",
    "\n",
    "\n",
    "# Equation: 4x1+3x2<=25\n",
    "plt.plot(x1, y4, label=r'$3y\\leq25-4x---Y4$')\n",
    "# plt.show()\n",
    "\n",
    "# plt.legend()\n",
    "\n",
    "# lim will sdo the screenshot of the view not the solution, so that means the graph is already plotted \n",
    "# but to view we are taking a limit of screenshots\n",
    "plt.xlim(0, 16)\n",
    "plt.ylim(0, 12)\n",
    "\n",
    "\n",
    "# Shading the region\n",
    "y5=np.minimum(y2, y4)\n",
    "y6=np.minimum(y2, y3)\n",
    "# plt.fill_between(x1, y1, y6, color=\"grey\", alpha=0.5)\n",
    "# plt.fill_between(x1, y1, y5, color=\"grey\", alpha=0.5)\n",
    "\n",
    "plt.fill_between(x1, y1, y6, where=y5>y6, color=\"grey\", alpha=0.5)\n",
    "plt.legend(bbox_to_anchor=(1.05, 1), loc=2, borderaxespad=0.)"
   ]
  },
  {
   "cell_type": "code",
   "execution_count": null,
   "metadata": {},
   "outputs": [],
   "source": []
  },
  {
   "cell_type": "code",
   "execution_count": null,
   "metadata": {},
   "outputs": [],
   "source": []
  },
  {
   "cell_type": "code",
   "execution_count": null,
   "metadata": {},
   "outputs": [],
   "source": []
  }
 ],
 "metadata": {
  "kernelspec": {
   "display_name": "Python 3",
   "language": "python",
   "name": "python3"
  },
  "language_info": {
   "codemirror_mode": {
    "name": "ipython",
    "version": 3
   },
   "file_extension": ".py",
   "mimetype": "text/x-python",
   "name": "python",
   "nbconvert_exporter": "python",
   "pygments_lexer": "ipython3",
   "version": "3.8.5"
  }
 },
 "nbformat": 4,
 "nbformat_minor": 4
}
